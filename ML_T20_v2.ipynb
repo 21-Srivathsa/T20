{
  "nbformat": 4,
  "nbformat_minor": 0,
  "metadata": {
    "colab": {
      "name": "ML_T20 v2",
      "provenance": []
    },
    "kernelspec": {
      "name": "python3",
      "display_name": "Python 3"
    },
    "language_info": {
      "name": "python"
    }
  },
  "cells": [
    {
      "cell_type": "code",
      "execution_count": 1,
      "metadata": {
        "id": "5aWfi2Ozz7d-"
      },
      "outputs": [],
      "source": [
        "import pandas as pd\n",
        "import numpy as np\n",
        "import seaborn as sns\n",
        "import matplotlib.pyplot as plt\n",
        "from sklearn.model_selection import train_test_split"
      ]
    },
    {
      "cell_type": "code",
      "source": [
        "from google.colab import drive\n",
        "drive.mount('/content/drive')"
      ],
      "metadata": {
        "colab": {
          "base_uri": "https://localhost:8080/"
        },
        "id": "iqCxJss60cUS",
        "outputId": "80d9b575-7d51-4e9e-ac73-5a1e3d827104"
      },
      "execution_count": 2,
      "outputs": [
        {
          "output_type": "stream",
          "name": "stdout",
          "text": [
            "Mounted at /content/drive\n"
          ]
        }
      ]
    },
    {
      "cell_type": "code",
      "source": [
        "data = pd.read_excel('/content/drive/MyDrive/Historic data/T20_2.xlsx','Sheet2')"
      ],
      "metadata": {
        "id": "4EwqIH_K1Sr5"
      },
      "execution_count": 3,
      "outputs": []
    },
    {
      "cell_type": "code",
      "source": [
        "data.head(2)"
      ],
      "metadata": {
        "colab": {
          "base_uri": "https://localhost:8080/",
          "height": 112
        },
        "id": "bR-5wYhd1wE8",
        "outputId": "ecc287b9-be02-4346-a7b4-7441f7857f5d"
      },
      "execution_count": 4,
      "outputs": [
        {
          "output_type": "execute_result",
          "data": {
            "text/plain": [
              "   innings  ball  runs_off_bat  extras  Powerplay  Death  runs_striker  \\\n",
              "0        1   0.1             0       0          1      0             0   \n",
              "1        1   0.2             0       0          1      0             0   \n",
              "\n",
              "   runs_nonstriker  CRR  Last3overruns  Last3overwkts  Total_Runs  sr_striker  \\\n",
              "0                0  0.0              0              0         188         0.0   \n",
              "1                0  0.0              0              0         188         0.0   \n",
              "\n",
              "   sr_nonstriker  Wicket_till  \n",
              "0            0.0            0  \n",
              "1            0.0            0  "
            ],
            "text/html": [
              "\n",
              "  <div id=\"df-5f84b81e-58a6-4685-b57d-3b1e6241fd4f\">\n",
              "    <div class=\"colab-df-container\">\n",
              "      <div>\n",
              "<style scoped>\n",
              "    .dataframe tbody tr th:only-of-type {\n",
              "        vertical-align: middle;\n",
              "    }\n",
              "\n",
              "    .dataframe tbody tr th {\n",
              "        vertical-align: top;\n",
              "    }\n",
              "\n",
              "    .dataframe thead th {\n",
              "        text-align: right;\n",
              "    }\n",
              "</style>\n",
              "<table border=\"1\" class=\"dataframe\">\n",
              "  <thead>\n",
              "    <tr style=\"text-align: right;\">\n",
              "      <th></th>\n",
              "      <th>innings</th>\n",
              "      <th>ball</th>\n",
              "      <th>runs_off_bat</th>\n",
              "      <th>extras</th>\n",
              "      <th>Powerplay</th>\n",
              "      <th>Death</th>\n",
              "      <th>runs_striker</th>\n",
              "      <th>runs_nonstriker</th>\n",
              "      <th>CRR</th>\n",
              "      <th>Last3overruns</th>\n",
              "      <th>Last3overwkts</th>\n",
              "      <th>Total_Runs</th>\n",
              "      <th>sr_striker</th>\n",
              "      <th>sr_nonstriker</th>\n",
              "      <th>Wicket_till</th>\n",
              "    </tr>\n",
              "  </thead>\n",
              "  <tbody>\n",
              "    <tr>\n",
              "      <th>0</th>\n",
              "      <td>1</td>\n",
              "      <td>0.1</td>\n",
              "      <td>0</td>\n",
              "      <td>0</td>\n",
              "      <td>1</td>\n",
              "      <td>0</td>\n",
              "      <td>0</td>\n",
              "      <td>0</td>\n",
              "      <td>0.0</td>\n",
              "      <td>0</td>\n",
              "      <td>0</td>\n",
              "      <td>188</td>\n",
              "      <td>0.0</td>\n",
              "      <td>0.0</td>\n",
              "      <td>0</td>\n",
              "    </tr>\n",
              "    <tr>\n",
              "      <th>1</th>\n",
              "      <td>1</td>\n",
              "      <td>0.2</td>\n",
              "      <td>0</td>\n",
              "      <td>0</td>\n",
              "      <td>1</td>\n",
              "      <td>0</td>\n",
              "      <td>0</td>\n",
              "      <td>0</td>\n",
              "      <td>0.0</td>\n",
              "      <td>0</td>\n",
              "      <td>0</td>\n",
              "      <td>188</td>\n",
              "      <td>0.0</td>\n",
              "      <td>0.0</td>\n",
              "      <td>0</td>\n",
              "    </tr>\n",
              "  </tbody>\n",
              "</table>\n",
              "</div>\n",
              "      <button class=\"colab-df-convert\" onclick=\"convertToInteractive('df-5f84b81e-58a6-4685-b57d-3b1e6241fd4f')\"\n",
              "              title=\"Convert this dataframe to an interactive table.\"\n",
              "              style=\"display:none;\">\n",
              "        \n",
              "  <svg xmlns=\"http://www.w3.org/2000/svg\" height=\"24px\"viewBox=\"0 0 24 24\"\n",
              "       width=\"24px\">\n",
              "    <path d=\"M0 0h24v24H0V0z\" fill=\"none\"/>\n",
              "    <path d=\"M18.56 5.44l.94 2.06.94-2.06 2.06-.94-2.06-.94-.94-2.06-.94 2.06-2.06.94zm-11 1L8.5 8.5l.94-2.06 2.06-.94-2.06-.94L8.5 2.5l-.94 2.06-2.06.94zm10 10l.94 2.06.94-2.06 2.06-.94-2.06-.94-.94-2.06-.94 2.06-2.06.94z\"/><path d=\"M17.41 7.96l-1.37-1.37c-.4-.4-.92-.59-1.43-.59-.52 0-1.04.2-1.43.59L10.3 9.45l-7.72 7.72c-.78.78-.78 2.05 0 2.83L4 21.41c.39.39.9.59 1.41.59.51 0 1.02-.2 1.41-.59l7.78-7.78 2.81-2.81c.8-.78.8-2.07 0-2.86zM5.41 20L4 18.59l7.72-7.72 1.47 1.35L5.41 20z\"/>\n",
              "  </svg>\n",
              "      </button>\n",
              "      \n",
              "  <style>\n",
              "    .colab-df-container {\n",
              "      display:flex;\n",
              "      flex-wrap:wrap;\n",
              "      gap: 12px;\n",
              "    }\n",
              "\n",
              "    .colab-df-convert {\n",
              "      background-color: #E8F0FE;\n",
              "      border: none;\n",
              "      border-radius: 50%;\n",
              "      cursor: pointer;\n",
              "      display: none;\n",
              "      fill: #1967D2;\n",
              "      height: 32px;\n",
              "      padding: 0 0 0 0;\n",
              "      width: 32px;\n",
              "    }\n",
              "\n",
              "    .colab-df-convert:hover {\n",
              "      background-color: #E2EBFA;\n",
              "      box-shadow: 0px 1px 2px rgba(60, 64, 67, 0.3), 0px 1px 3px 1px rgba(60, 64, 67, 0.15);\n",
              "      fill: #174EA6;\n",
              "    }\n",
              "\n",
              "    [theme=dark] .colab-df-convert {\n",
              "      background-color: #3B4455;\n",
              "      fill: #D2E3FC;\n",
              "    }\n",
              "\n",
              "    [theme=dark] .colab-df-convert:hover {\n",
              "      background-color: #434B5C;\n",
              "      box-shadow: 0px 1px 3px 1px rgba(0, 0, 0, 0.15);\n",
              "      filter: drop-shadow(0px 1px 2px rgba(0, 0, 0, 0.3));\n",
              "      fill: #FFFFFF;\n",
              "    }\n",
              "  </style>\n",
              "\n",
              "      <script>\n",
              "        const buttonEl =\n",
              "          document.querySelector('#df-5f84b81e-58a6-4685-b57d-3b1e6241fd4f button.colab-df-convert');\n",
              "        buttonEl.style.display =\n",
              "          google.colab.kernel.accessAllowed ? 'block' : 'none';\n",
              "\n",
              "        async function convertToInteractive(key) {\n",
              "          const element = document.querySelector('#df-5f84b81e-58a6-4685-b57d-3b1e6241fd4f');\n",
              "          const dataTable =\n",
              "            await google.colab.kernel.invokeFunction('convertToInteractive',\n",
              "                                                     [key], {});\n",
              "          if (!dataTable) return;\n",
              "\n",
              "          const docLinkHtml = 'Like what you see? Visit the ' +\n",
              "            '<a target=\"_blank\" href=https://colab.research.google.com/notebooks/data_table.ipynb>data table notebook</a>'\n",
              "            + ' to learn more about interactive tables.';\n",
              "          element.innerHTML = '';\n",
              "          dataTable['output_type'] = 'display_data';\n",
              "          await google.colab.output.renderOutput(dataTable, element);\n",
              "          const docLink = document.createElement('div');\n",
              "          docLink.innerHTML = docLinkHtml;\n",
              "          element.appendChild(docLink);\n",
              "        }\n",
              "      </script>\n",
              "    </div>\n",
              "  </div>\n",
              "  "
            ]
          },
          "metadata": {},
          "execution_count": 4
        }
      ]
    },
    {
      "cell_type": "code",
      "source": [
        "data_new = data[data[\"ball\"] > 6]"
      ],
      "metadata": {
        "id": "GGRHvEbA8eY7"
      },
      "execution_count": 5,
      "outputs": []
    },
    {
      "cell_type": "code",
      "source": [
        "data_new.corr()"
      ],
      "metadata": {
        "colab": {
          "base_uri": "https://localhost:8080/",
          "height": 584
        },
        "id": "Bsd1Ggzp13Tf",
        "outputId": "15bbc1c1-ff49-4755-fc4e-7cfe3178e523"
      },
      "execution_count": 6,
      "outputs": [
        {
          "output_type": "execute_result",
          "data": {
            "text/plain": [
              "                 innings      ball  runs_off_bat    extras  Powerplay  \\\n",
              "innings              NaN       NaN           NaN       NaN        NaN   \n",
              "ball                 NaN  1.000000      0.107573  0.041307        NaN   \n",
              "runs_off_bat         NaN  0.107573      1.000000 -0.148307        NaN   \n",
              "extras               NaN  0.041307     -0.148307  1.000000        NaN   \n",
              "Powerplay            NaN       NaN           NaN       NaN        NaN   \n",
              "Death                NaN  0.828647      0.094937  0.038796        NaN   \n",
              "runs_striker         NaN  0.084657      0.137842  0.008597        NaN   \n",
              "runs_nonstriker      NaN  0.039461      0.058513  0.002382        NaN   \n",
              "CRR                  NaN  0.119654      0.185016  0.026603        NaN   \n",
              "Last3overruns        NaN  0.245618      0.131217  0.024734        NaN   \n",
              "Last3overwkts        NaN  0.227595     -0.076745  0.007074        NaN   \n",
              "Total_Runs           NaN  0.041308      0.171429  0.013703        NaN   \n",
              "sr_striker           NaN  0.107412      0.130302  0.014893        NaN   \n",
              "sr_nonstriker        NaN  0.040221      0.067043  0.006360        NaN   \n",
              "Wicket_till          NaN  0.625503     -0.058701  0.018427        NaN   \n",
              "\n",
              "                    Death  runs_striker  runs_nonstriker       CRR  \\\n",
              "innings               NaN           NaN              NaN       NaN   \n",
              "ball             0.828647      0.084657         0.039461  0.119654   \n",
              "runs_off_bat     0.094937      0.137842         0.058513  0.185016   \n",
              "extras           0.038796      0.008597         0.002382  0.026603   \n",
              "Powerplay             NaN           NaN              NaN       NaN   \n",
              "Death            1.000000      0.052505         0.006183  0.118073   \n",
              "runs_striker     0.052505      1.000000         0.032122  0.365577   \n",
              "runs_nonstriker  0.006183      0.032122         1.000000  0.341461   \n",
              "CRR              0.118073      0.365577         0.341461  1.000000   \n",
              "Last3overruns    0.246663      0.426957         0.384385  0.645738   \n",
              "Last3overwkts    0.219818     -0.393028        -0.400034 -0.097848   \n",
              "Total_Runs       0.035870      0.356105         0.340394  0.806267   \n",
              "sr_striker       0.109156      0.515542         0.098533  0.425229   \n",
              "sr_nonstriker    0.047403      0.096697         0.558443  0.414861   \n",
              "Wicket_till      0.538137     -0.306464        -0.337133 -0.326073   \n",
              "\n",
              "                 Last3overruns  Last3overwkts  Total_Runs  sr_striker  \\\n",
              "innings                    NaN            NaN         NaN         NaN   \n",
              "ball                  0.245618       0.227595    0.041308    0.107412   \n",
              "runs_off_bat          0.131217      -0.076745    0.171429    0.130302   \n",
              "extras                0.024734       0.007074    0.013703    0.014893   \n",
              "Powerplay                  NaN            NaN         NaN         NaN   \n",
              "Death                 0.246663       0.219818    0.035870    0.109156   \n",
              "runs_striker          0.426957      -0.393028    0.356105    0.515542   \n",
              "runs_nonstriker       0.384385      -0.400034    0.340394    0.098533   \n",
              "CRR                   0.645738      -0.097848    0.806267    0.425229   \n",
              "Last3overruns         1.000000      -0.267374    0.545504    0.486722   \n",
              "Last3overwkts        -0.267374       1.000000   -0.201246   -0.222476   \n",
              "Total_Runs            0.545504      -0.201246    1.000000    0.373081   \n",
              "sr_striker            0.486722      -0.222476    0.373081    1.000000   \n",
              "sr_nonstriker         0.449198      -0.254373    0.365656    0.115316   \n",
              "Wicket_till          -0.195401       0.526005   -0.432819   -0.184273   \n",
              "\n",
              "                 sr_nonstriker  Wicket_till  \n",
              "innings                    NaN          NaN  \n",
              "ball                  0.040221     0.625503  \n",
              "runs_off_bat          0.067043    -0.058701  \n",
              "extras                0.006360     0.018427  \n",
              "Powerplay                  NaN          NaN  \n",
              "Death                 0.047403     0.538137  \n",
              "runs_striker          0.096697    -0.306464  \n",
              "runs_nonstriker       0.558443    -0.337133  \n",
              "CRR                   0.414861    -0.326073  \n",
              "Last3overruns         0.449198    -0.195401  \n",
              "Last3overwkts        -0.254373     0.526005  \n",
              "Total_Runs            0.365656    -0.432819  \n",
              "sr_striker            0.115316    -0.184273  \n",
              "sr_nonstriker         1.000000    -0.241276  \n",
              "Wicket_till          -0.241276     1.000000  "
            ],
            "text/html": [
              "\n",
              "  <div id=\"df-61f59a8e-1d63-4fc1-ab5f-cb1bb52f4ece\">\n",
              "    <div class=\"colab-df-container\">\n",
              "      <div>\n",
              "<style scoped>\n",
              "    .dataframe tbody tr th:only-of-type {\n",
              "        vertical-align: middle;\n",
              "    }\n",
              "\n",
              "    .dataframe tbody tr th {\n",
              "        vertical-align: top;\n",
              "    }\n",
              "\n",
              "    .dataframe thead th {\n",
              "        text-align: right;\n",
              "    }\n",
              "</style>\n",
              "<table border=\"1\" class=\"dataframe\">\n",
              "  <thead>\n",
              "    <tr style=\"text-align: right;\">\n",
              "      <th></th>\n",
              "      <th>innings</th>\n",
              "      <th>ball</th>\n",
              "      <th>runs_off_bat</th>\n",
              "      <th>extras</th>\n",
              "      <th>Powerplay</th>\n",
              "      <th>Death</th>\n",
              "      <th>runs_striker</th>\n",
              "      <th>runs_nonstriker</th>\n",
              "      <th>CRR</th>\n",
              "      <th>Last3overruns</th>\n",
              "      <th>Last3overwkts</th>\n",
              "      <th>Total_Runs</th>\n",
              "      <th>sr_striker</th>\n",
              "      <th>sr_nonstriker</th>\n",
              "      <th>Wicket_till</th>\n",
              "    </tr>\n",
              "  </thead>\n",
              "  <tbody>\n",
              "    <tr>\n",
              "      <th>innings</th>\n",
              "      <td>NaN</td>\n",
              "      <td>NaN</td>\n",
              "      <td>NaN</td>\n",
              "      <td>NaN</td>\n",
              "      <td>NaN</td>\n",
              "      <td>NaN</td>\n",
              "      <td>NaN</td>\n",
              "      <td>NaN</td>\n",
              "      <td>NaN</td>\n",
              "      <td>NaN</td>\n",
              "      <td>NaN</td>\n",
              "      <td>NaN</td>\n",
              "      <td>NaN</td>\n",
              "      <td>NaN</td>\n",
              "      <td>NaN</td>\n",
              "    </tr>\n",
              "    <tr>\n",
              "      <th>ball</th>\n",
              "      <td>NaN</td>\n",
              "      <td>1.000000</td>\n",
              "      <td>0.107573</td>\n",
              "      <td>0.041307</td>\n",
              "      <td>NaN</td>\n",
              "      <td>0.828647</td>\n",
              "      <td>0.084657</td>\n",
              "      <td>0.039461</td>\n",
              "      <td>0.119654</td>\n",
              "      <td>0.245618</td>\n",
              "      <td>0.227595</td>\n",
              "      <td>0.041308</td>\n",
              "      <td>0.107412</td>\n",
              "      <td>0.040221</td>\n",
              "      <td>0.625503</td>\n",
              "    </tr>\n",
              "    <tr>\n",
              "      <th>runs_off_bat</th>\n",
              "      <td>NaN</td>\n",
              "      <td>0.107573</td>\n",
              "      <td>1.000000</td>\n",
              "      <td>-0.148307</td>\n",
              "      <td>NaN</td>\n",
              "      <td>0.094937</td>\n",
              "      <td>0.137842</td>\n",
              "      <td>0.058513</td>\n",
              "      <td>0.185016</td>\n",
              "      <td>0.131217</td>\n",
              "      <td>-0.076745</td>\n",
              "      <td>0.171429</td>\n",
              "      <td>0.130302</td>\n",
              "      <td>0.067043</td>\n",
              "      <td>-0.058701</td>\n",
              "    </tr>\n",
              "    <tr>\n",
              "      <th>extras</th>\n",
              "      <td>NaN</td>\n",
              "      <td>0.041307</td>\n",
              "      <td>-0.148307</td>\n",
              "      <td>1.000000</td>\n",
              "      <td>NaN</td>\n",
              "      <td>0.038796</td>\n",
              "      <td>0.008597</td>\n",
              "      <td>0.002382</td>\n",
              "      <td>0.026603</td>\n",
              "      <td>0.024734</td>\n",
              "      <td>0.007074</td>\n",
              "      <td>0.013703</td>\n",
              "      <td>0.014893</td>\n",
              "      <td>0.006360</td>\n",
              "      <td>0.018427</td>\n",
              "    </tr>\n",
              "    <tr>\n",
              "      <th>Powerplay</th>\n",
              "      <td>NaN</td>\n",
              "      <td>NaN</td>\n",
              "      <td>NaN</td>\n",
              "      <td>NaN</td>\n",
              "      <td>NaN</td>\n",
              "      <td>NaN</td>\n",
              "      <td>NaN</td>\n",
              "      <td>NaN</td>\n",
              "      <td>NaN</td>\n",
              "      <td>NaN</td>\n",
              "      <td>NaN</td>\n",
              "      <td>NaN</td>\n",
              "      <td>NaN</td>\n",
              "      <td>NaN</td>\n",
              "      <td>NaN</td>\n",
              "    </tr>\n",
              "    <tr>\n",
              "      <th>Death</th>\n",
              "      <td>NaN</td>\n",
              "      <td>0.828647</td>\n",
              "      <td>0.094937</td>\n",
              "      <td>0.038796</td>\n",
              "      <td>NaN</td>\n",
              "      <td>1.000000</td>\n",
              "      <td>0.052505</td>\n",
              "      <td>0.006183</td>\n",
              "      <td>0.118073</td>\n",
              "      <td>0.246663</td>\n",
              "      <td>0.219818</td>\n",
              "      <td>0.035870</td>\n",
              "      <td>0.109156</td>\n",
              "      <td>0.047403</td>\n",
              "      <td>0.538137</td>\n",
              "    </tr>\n",
              "    <tr>\n",
              "      <th>runs_striker</th>\n",
              "      <td>NaN</td>\n",
              "      <td>0.084657</td>\n",
              "      <td>0.137842</td>\n",
              "      <td>0.008597</td>\n",
              "      <td>NaN</td>\n",
              "      <td>0.052505</td>\n",
              "      <td>1.000000</td>\n",
              "      <td>0.032122</td>\n",
              "      <td>0.365577</td>\n",
              "      <td>0.426957</td>\n",
              "      <td>-0.393028</td>\n",
              "      <td>0.356105</td>\n",
              "      <td>0.515542</td>\n",
              "      <td>0.096697</td>\n",
              "      <td>-0.306464</td>\n",
              "    </tr>\n",
              "    <tr>\n",
              "      <th>runs_nonstriker</th>\n",
              "      <td>NaN</td>\n",
              "      <td>0.039461</td>\n",
              "      <td>0.058513</td>\n",
              "      <td>0.002382</td>\n",
              "      <td>NaN</td>\n",
              "      <td>0.006183</td>\n",
              "      <td>0.032122</td>\n",
              "      <td>1.000000</td>\n",
              "      <td>0.341461</td>\n",
              "      <td>0.384385</td>\n",
              "      <td>-0.400034</td>\n",
              "      <td>0.340394</td>\n",
              "      <td>0.098533</td>\n",
              "      <td>0.558443</td>\n",
              "      <td>-0.337133</td>\n",
              "    </tr>\n",
              "    <tr>\n",
              "      <th>CRR</th>\n",
              "      <td>NaN</td>\n",
              "      <td>0.119654</td>\n",
              "      <td>0.185016</td>\n",
              "      <td>0.026603</td>\n",
              "      <td>NaN</td>\n",
              "      <td>0.118073</td>\n",
              "      <td>0.365577</td>\n",
              "      <td>0.341461</td>\n",
              "      <td>1.000000</td>\n",
              "      <td>0.645738</td>\n",
              "      <td>-0.097848</td>\n",
              "      <td>0.806267</td>\n",
              "      <td>0.425229</td>\n",
              "      <td>0.414861</td>\n",
              "      <td>-0.326073</td>\n",
              "    </tr>\n",
              "    <tr>\n",
              "      <th>Last3overruns</th>\n",
              "      <td>NaN</td>\n",
              "      <td>0.245618</td>\n",
              "      <td>0.131217</td>\n",
              "      <td>0.024734</td>\n",
              "      <td>NaN</td>\n",
              "      <td>0.246663</td>\n",
              "      <td>0.426957</td>\n",
              "      <td>0.384385</td>\n",
              "      <td>0.645738</td>\n",
              "      <td>1.000000</td>\n",
              "      <td>-0.267374</td>\n",
              "      <td>0.545504</td>\n",
              "      <td>0.486722</td>\n",
              "      <td>0.449198</td>\n",
              "      <td>-0.195401</td>\n",
              "    </tr>\n",
              "    <tr>\n",
              "      <th>Last3overwkts</th>\n",
              "      <td>NaN</td>\n",
              "      <td>0.227595</td>\n",
              "      <td>-0.076745</td>\n",
              "      <td>0.007074</td>\n",
              "      <td>NaN</td>\n",
              "      <td>0.219818</td>\n",
              "      <td>-0.393028</td>\n",
              "      <td>-0.400034</td>\n",
              "      <td>-0.097848</td>\n",
              "      <td>-0.267374</td>\n",
              "      <td>1.000000</td>\n",
              "      <td>-0.201246</td>\n",
              "      <td>-0.222476</td>\n",
              "      <td>-0.254373</td>\n",
              "      <td>0.526005</td>\n",
              "    </tr>\n",
              "    <tr>\n",
              "      <th>Total_Runs</th>\n",
              "      <td>NaN</td>\n",
              "      <td>0.041308</td>\n",
              "      <td>0.171429</td>\n",
              "      <td>0.013703</td>\n",
              "      <td>NaN</td>\n",
              "      <td>0.035870</td>\n",
              "      <td>0.356105</td>\n",
              "      <td>0.340394</td>\n",
              "      <td>0.806267</td>\n",
              "      <td>0.545504</td>\n",
              "      <td>-0.201246</td>\n",
              "      <td>1.000000</td>\n",
              "      <td>0.373081</td>\n",
              "      <td>0.365656</td>\n",
              "      <td>-0.432819</td>\n",
              "    </tr>\n",
              "    <tr>\n",
              "      <th>sr_striker</th>\n",
              "      <td>NaN</td>\n",
              "      <td>0.107412</td>\n",
              "      <td>0.130302</td>\n",
              "      <td>0.014893</td>\n",
              "      <td>NaN</td>\n",
              "      <td>0.109156</td>\n",
              "      <td>0.515542</td>\n",
              "      <td>0.098533</td>\n",
              "      <td>0.425229</td>\n",
              "      <td>0.486722</td>\n",
              "      <td>-0.222476</td>\n",
              "      <td>0.373081</td>\n",
              "      <td>1.000000</td>\n",
              "      <td>0.115316</td>\n",
              "      <td>-0.184273</td>\n",
              "    </tr>\n",
              "    <tr>\n",
              "      <th>sr_nonstriker</th>\n",
              "      <td>NaN</td>\n",
              "      <td>0.040221</td>\n",
              "      <td>0.067043</td>\n",
              "      <td>0.006360</td>\n",
              "      <td>NaN</td>\n",
              "      <td>0.047403</td>\n",
              "      <td>0.096697</td>\n",
              "      <td>0.558443</td>\n",
              "      <td>0.414861</td>\n",
              "      <td>0.449198</td>\n",
              "      <td>-0.254373</td>\n",
              "      <td>0.365656</td>\n",
              "      <td>0.115316</td>\n",
              "      <td>1.000000</td>\n",
              "      <td>-0.241276</td>\n",
              "    </tr>\n",
              "    <tr>\n",
              "      <th>Wicket_till</th>\n",
              "      <td>NaN</td>\n",
              "      <td>0.625503</td>\n",
              "      <td>-0.058701</td>\n",
              "      <td>0.018427</td>\n",
              "      <td>NaN</td>\n",
              "      <td>0.538137</td>\n",
              "      <td>-0.306464</td>\n",
              "      <td>-0.337133</td>\n",
              "      <td>-0.326073</td>\n",
              "      <td>-0.195401</td>\n",
              "      <td>0.526005</td>\n",
              "      <td>-0.432819</td>\n",
              "      <td>-0.184273</td>\n",
              "      <td>-0.241276</td>\n",
              "      <td>1.000000</td>\n",
              "    </tr>\n",
              "  </tbody>\n",
              "</table>\n",
              "</div>\n",
              "      <button class=\"colab-df-convert\" onclick=\"convertToInteractive('df-61f59a8e-1d63-4fc1-ab5f-cb1bb52f4ece')\"\n",
              "              title=\"Convert this dataframe to an interactive table.\"\n",
              "              style=\"display:none;\">\n",
              "        \n",
              "  <svg xmlns=\"http://www.w3.org/2000/svg\" height=\"24px\"viewBox=\"0 0 24 24\"\n",
              "       width=\"24px\">\n",
              "    <path d=\"M0 0h24v24H0V0z\" fill=\"none\"/>\n",
              "    <path d=\"M18.56 5.44l.94 2.06.94-2.06 2.06-.94-2.06-.94-.94-2.06-.94 2.06-2.06.94zm-11 1L8.5 8.5l.94-2.06 2.06-.94-2.06-.94L8.5 2.5l-.94 2.06-2.06.94zm10 10l.94 2.06.94-2.06 2.06-.94-2.06-.94-.94-2.06-.94 2.06-2.06.94z\"/><path d=\"M17.41 7.96l-1.37-1.37c-.4-.4-.92-.59-1.43-.59-.52 0-1.04.2-1.43.59L10.3 9.45l-7.72 7.72c-.78.78-.78 2.05 0 2.83L4 21.41c.39.39.9.59 1.41.59.51 0 1.02-.2 1.41-.59l7.78-7.78 2.81-2.81c.8-.78.8-2.07 0-2.86zM5.41 20L4 18.59l7.72-7.72 1.47 1.35L5.41 20z\"/>\n",
              "  </svg>\n",
              "      </button>\n",
              "      \n",
              "  <style>\n",
              "    .colab-df-container {\n",
              "      display:flex;\n",
              "      flex-wrap:wrap;\n",
              "      gap: 12px;\n",
              "    }\n",
              "\n",
              "    .colab-df-convert {\n",
              "      background-color: #E8F0FE;\n",
              "      border: none;\n",
              "      border-radius: 50%;\n",
              "      cursor: pointer;\n",
              "      display: none;\n",
              "      fill: #1967D2;\n",
              "      height: 32px;\n",
              "      padding: 0 0 0 0;\n",
              "      width: 32px;\n",
              "    }\n",
              "\n",
              "    .colab-df-convert:hover {\n",
              "      background-color: #E2EBFA;\n",
              "      box-shadow: 0px 1px 2px rgba(60, 64, 67, 0.3), 0px 1px 3px 1px rgba(60, 64, 67, 0.15);\n",
              "      fill: #174EA6;\n",
              "    }\n",
              "\n",
              "    [theme=dark] .colab-df-convert {\n",
              "      background-color: #3B4455;\n",
              "      fill: #D2E3FC;\n",
              "    }\n",
              "\n",
              "    [theme=dark] .colab-df-convert:hover {\n",
              "      background-color: #434B5C;\n",
              "      box-shadow: 0px 1px 3px 1px rgba(0, 0, 0, 0.15);\n",
              "      filter: drop-shadow(0px 1px 2px rgba(0, 0, 0, 0.3));\n",
              "      fill: #FFFFFF;\n",
              "    }\n",
              "  </style>\n",
              "\n",
              "      <script>\n",
              "        const buttonEl =\n",
              "          document.querySelector('#df-61f59a8e-1d63-4fc1-ab5f-cb1bb52f4ece button.colab-df-convert');\n",
              "        buttonEl.style.display =\n",
              "          google.colab.kernel.accessAllowed ? 'block' : 'none';\n",
              "\n",
              "        async function convertToInteractive(key) {\n",
              "          const element = document.querySelector('#df-61f59a8e-1d63-4fc1-ab5f-cb1bb52f4ece');\n",
              "          const dataTable =\n",
              "            await google.colab.kernel.invokeFunction('convertToInteractive',\n",
              "                                                     [key], {});\n",
              "          if (!dataTable) return;\n",
              "\n",
              "          const docLinkHtml = 'Like what you see? Visit the ' +\n",
              "            '<a target=\"_blank\" href=https://colab.research.google.com/notebooks/data_table.ipynb>data table notebook</a>'\n",
              "            + ' to learn more about interactive tables.';\n",
              "          element.innerHTML = '';\n",
              "          dataTable['output_type'] = 'display_data';\n",
              "          await google.colab.output.renderOutput(dataTable, element);\n",
              "          const docLink = document.createElement('div');\n",
              "          docLink.innerHTML = docLinkHtml;\n",
              "          element.appendChild(docLink);\n",
              "        }\n",
              "      </script>\n",
              "    </div>\n",
              "  </div>\n",
              "  "
            ]
          },
          "metadata": {},
          "execution_count": 6
        }
      ]
    },
    {
      "cell_type": "code",
      "source": [
        "data_new.columns"
      ],
      "metadata": {
        "colab": {
          "base_uri": "https://localhost:8080/"
        },
        "id": "A-8g6rde3FWZ",
        "outputId": "588cdbd8-86c3-4d86-f559-94277492c33f"
      },
      "execution_count": 7,
      "outputs": [
        {
          "output_type": "execute_result",
          "data": {
            "text/plain": [
              "Index(['innings', 'ball', 'runs_off_bat', 'extras', 'Powerplay', 'Death',\n",
              "       'runs_striker', 'runs_nonstriker', 'CRR', 'Last3overruns',\n",
              "       'Last3overwkts', 'Total_Runs', 'sr_striker', 'sr_nonstriker',\n",
              "       'Wicket_till'],\n",
              "      dtype='object')"
            ]
          },
          "metadata": {},
          "execution_count": 7
        }
      ]
    },
    {
      "cell_type": "code",
      "source": [
        "data_new.isna().sum()"
      ],
      "metadata": {
        "colab": {
          "base_uri": "https://localhost:8080/"
        },
        "id": "W7FVb-jw3_Go",
        "outputId": "857f6b26-fd41-456d-f490-b3cf642c1f34"
      },
      "execution_count": 8,
      "outputs": [
        {
          "output_type": "execute_result",
          "data": {
            "text/plain": [
              "innings            0\n",
              "ball               0\n",
              "runs_off_bat       0\n",
              "extras             0\n",
              "Powerplay          0\n",
              "Death              0\n",
              "runs_striker       0\n",
              "runs_nonstriker    0\n",
              "CRR                0\n",
              "Last3overruns      0\n",
              "Last3overwkts      0\n",
              "Total_Runs         0\n",
              "sr_striker         0\n",
              "sr_nonstriker      0\n",
              "Wicket_till        0\n",
              "dtype: int64"
            ]
          },
          "metadata": {},
          "execution_count": 8
        }
      ]
    },
    {
      "cell_type": "code",
      "source": [
        "data_new.replace([np.inf, -np.inf], 0, inplace=True)"
      ],
      "metadata": {
        "id": "qL3nH4CW4fdO",
        "colab": {
          "base_uri": "https://localhost:8080/"
        },
        "outputId": "d7f2aab4-bf4e-4585-cd9b-c0315ad945a6"
      },
      "execution_count": 9,
      "outputs": [
        {
          "output_type": "stream",
          "name": "stderr",
          "text": [
            "/usr/local/lib/python3.7/dist-packages/pandas/core/frame.py:5244: SettingWithCopyWarning: \n",
            "A value is trying to be set on a copy of a slice from a DataFrame\n",
            "\n",
            "See the caveats in the documentation: https://pandas.pydata.org/pandas-docs/stable/user_guide/indexing.html#returning-a-view-versus-a-copy\n",
            "  method=method,\n"
          ]
        }
      ]
    },
    {
      "cell_type": "code",
      "source": [
        "data = pd.DataFrame(data_new)"
      ],
      "metadata": {
        "id": "mTI985GN9FUJ"
      },
      "execution_count": 10,
      "outputs": []
    },
    {
      "cell_type": "code",
      "source": [
        "cols= ['ball', 'runs_off_bat', 'extras', 'Death', 'runs_striker',\n",
        "       'runs_nonstriker', 'CRR', 'Last3overruns', 'Last3overwkts',\n",
        "       'sr_striker', 'sr_nonstriker','Wicket_till'\n",
        "       ]\n",
        "x = data[cols].values\n",
        "y = data['Total_Runs'].values"
      ],
      "metadata": {
        "id": "I5O9VTIg3VD3"
      },
      "execution_count": 11,
      "outputs": []
    },
    {
      "cell_type": "code",
      "source": [
        "x_train,x_test,y_train,y_test = train_test_split(x,y,test_size = 0.2,random_state = 13)"
      ],
      "metadata": {
        "id": "gPTCR4jA3rQ9"
      },
      "execution_count": 12,
      "outputs": []
    },
    {
      "cell_type": "code",
      "source": [
        "from sklearn.ensemble import RandomForestRegressor"
      ],
      "metadata": {
        "id": "qubSF3Mn3xZu"
      },
      "execution_count": 13,
      "outputs": []
    },
    {
      "cell_type": "code",
      "source": [
        "rf = RandomForestRegressor(n_estimators = 550)\n",
        "rf.fit(x_train,y_train)\n",
        "y_pred = rf.predict(x_test)\n",
        "import seaborn as sns\n",
        "import matplotlib.pyplot as plt\n"
      ],
      "metadata": {
        "id": "aytdWtCe30G8"
      },
      "execution_count": null,
      "outputs": []
    },
    {
      "cell_type": "code",
      "source": [
        "def accuracy(y_test,y_pred):\n",
        "  count = len(y_test)\n",
        "  val = 0\n",
        "  for i in range(count):\n",
        "    if y_test[i] - 10 <= round(y_pred[i]) <= y_test[i]+ 10:\n",
        "      val+=1\n",
        "  return val*100/count"
      ],
      "metadata": {
        "id": "NLQb8aMrf6Gf"
      },
      "execution_count": null,
      "outputs": []
    },
    {
      "cell_type": "code",
      "source": [
        "accuracy(y_test,y_pred)"
      ],
      "metadata": {
        "id": "wpjJjJYFtbDI"
      },
      "execution_count": null,
      "outputs": []
    },
    {
      "cell_type": "code",
      "source": [
        "def split(y_test,y_pred):\n",
        "  for k in range(5,20,1):\n",
        "    val1,val2,val3,c1,c2,c3 = 0,0,0,0,0,0\n",
        "    for i in range(len(y_test)):\n",
        "      if 6 < x_test[i][0] < 15:\n",
        "        if y_test[i] -k <= round(y_pred[i]) <= y_test[i]+ k:\n",
        "          val2+=1\n",
        "        c2+=1\n",
        "      if x_test[i][0] > 15:\n",
        "        if y_test[i] - k<= round(y_pred[i]) <= y_test[i]+ k:\n",
        "          val3+=1\n",
        "        c3+=1\n",
        "    print(k,val2/c2,val3,c3)"
      ],
      "metadata": {
        "id": "kkfjYlc8hEZ-"
      },
      "execution_count": null,
      "outputs": []
    },
    {
      "cell_type": "code",
      "source": [
        "split(y_test,y_pred)"
      ],
      "metadata": {
        "id": "q2BZt7oriZEB"
      },
      "execution_count": null,
      "outputs": []
    },
    {
      "cell_type": "code",
      "source": [
        "plt.plot(y_test[10:20],'g*', y_pred[10:20], 'ro')\n",
        "for i in range(10,20):\n",
        "  print(x_test[i][0])"
      ],
      "metadata": {
        "id": "LAAIe_uGkw_x"
      },
      "execution_count": null,
      "outputs": []
    },
    {
      "cell_type": "code",
      "source": [
        "accuracy(y_test,y_pred)"
      ],
      "metadata": {
        "id": "e9paapKdg9YF"
      },
      "execution_count": null,
      "outputs": []
    },
    {
      "cell_type": "code",
      "source": [
        "from sklearn.metrics import r2_score\n",
        "r2_score(y_test,y_pred)"
      ],
      "metadata": {
        "id": "U3Qj_bQN37U4"
      },
      "execution_count": null,
      "outputs": []
    },
    {
      "cell_type": "code",
      "source": [
        "import pickle\n",
        "filename = '/content/drive/MyDrive/t20_model.sav'\n",
        "pickle.dump(rf, open(filename, 'wb'))\n"
      ],
      "metadata": {
        "id": "WuI6PJFR-evz"
      },
      "execution_count": null,
      "outputs": []
    },
    {
      "cell_type": "code",
      "source": [
        "y_pred[10:20],y_test[10:20]"
      ],
      "metadata": {
        "id": "hJrsnKWg691U"
      },
      "execution_count": null,
      "outputs": []
    },
    {
      "cell_type": "code",
      "source": [
        ""
      ],
      "metadata": {
        "id": "fITJn7B2wLFU"
      },
      "execution_count": null,
      "outputs": []
    }
  ]
}